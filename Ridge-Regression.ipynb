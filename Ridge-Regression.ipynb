{
 "cells": [
  {
   "cell_type": "code",
   "execution_count": 1,
   "metadata": {},
   "outputs": [],
   "source": [
    "import numpy as np\n",
    "from sklearn.linear_model import LinearRegression\n",
    "from sklearn.metrics import mean_squared_error\n",
    "from sklearn.linear_model import Ridge\n",
    "import warnings\n",
    "warnings.filterwarnings('ignore')\n"
   ]
  },
  {
   "cell_type": "code",
   "execution_count": 2,
   "metadata": {},
   "outputs": [
    {
     "name": "stdout",
     "output_type": "stream",
     "text": [
      "(100, 5)\n",
      "('train_exp', (80, 4))\n",
      "('train_res', (80, 1))\n",
      "('test_exp', (20, 4))\n",
      "('test_act', (20, 1))\n"
     ]
    }
   ],
   "source": [
    "#Generating matrix with explanatory and response variable\n",
    "matr = np.random.randint(200, size=(100, 5))\n",
    "print (matr.shape)\n",
    "\n",
    "train_exp = matr[:80, :4]\n",
    "train_res = matr[:80, 4:]\n",
    "test_exp = matr[80:, :4]\n",
    "test_act = matr[80:, 4:]\n",
    "\n",
    "print('train_exp',train_exp.shape)\n",
    "print('train_res',train_res.shape)\n",
    "print('test_exp',test_exp.shape)\n",
    "print('test_act',test_act.shape)"
   ]
  },
  {
   "cell_type": "code",
   "execution_count": 3,
   "metadata": {},
   "outputs": [
    {
     "name": "stdout",
     "output_type": "stream",
     "text": [
      "Ridge Predicted Values\n",
      "[[111.97950196]\n",
      " [102.84158381]\n",
      " [105.43328321]\n",
      " [110.23817242]\n",
      " [ 91.99599811]\n",
      " [101.06731944]\n",
      " [112.08511759]\n",
      " [ 78.02722728]\n",
      " [130.35552555]\n",
      " [106.9535783 ]\n",
      " [123.82719833]\n",
      " [129.70056156]\n",
      " [100.40380713]\n",
      " [100.15446077]\n",
      " [102.15406319]\n",
      " [109.02848497]\n",
      " [121.1418956 ]\n",
      " [107.40834001]\n",
      " [107.1022041 ]\n",
      " [101.19144646]]\n",
      "Mean Square Error Ridge\n",
      "3468.5535280755953\n"
     ]
    }
   ],
   "source": [
    "#Ridge\n",
    "rd = Ridge(alpha=1)\n",
    "rd.fit(train_exp, train_res)\n",
    "predicted1 = rd.predict(test_exp)\n",
    "print(\"Ridge Predicted Values\")\n",
    "print (predicted1)\n",
    "print ('Mean Square Error Ridge')\n",
    "mse_1 = mean_squared_error(test_act, predicted1)  \n",
    "print (mse_1)\n"
   ]
  },
  {
   "cell_type": "code",
   "execution_count": 4,
   "metadata": {},
   "outputs": [
    {
     "name": "stdout",
     "output_type": "stream",
     "text": [
      "Linear Regression Predicted Values\n",
      "[[111.97952163]\n",
      " [102.84156658]\n",
      " [105.43328048]\n",
      " [110.23818358]\n",
      " [ 91.99595387]\n",
      " [101.06730572]\n",
      " [112.08513974]\n",
      " [ 78.02713278]\n",
      " [130.35560405]\n",
      " [106.95357732]\n",
      " [123.82725309]\n",
      " [129.70063699]\n",
      " [100.40378918]\n",
      " [100.15444007]\n",
      " [102.15405185]\n",
      " [109.02849353]\n",
      " [121.14194626]\n",
      " [107.40834384]\n",
      " [107.10220911]\n",
      " [101.19143003]]\n",
      "Mean Square Error Linear Reg\n",
      "3468.5558901183226\n"
     ]
    }
   ],
   "source": [
    "#Linear Regression \n",
    "LR = LinearRegression()\n",
    "LR.fit(train_exp, train_res)\n",
    "predicted2 = LR.predict(test_exp)\n",
    "print(\"Linear Regression Predicted Values\")\n",
    "print (predicted2)\n",
    "print ('Mean Square Error Linear Reg')\n",
    "mse_2 = mean_squared_error(test_act, predicted2)  \n",
    "print (mse_2)     "
   ]
  },
  {
   "cell_type": "code",
   "execution_count": null,
   "metadata": {},
   "outputs": [],
   "source": []
  }
 ],
 "metadata": {
  "kernelspec": {
   "display_name": "Python 2",
   "language": "python",
   "name": "python2"
  },
  "language_info": {
   "codemirror_mode": {
    "name": "ipython",
    "version": 2
   },
   "file_extension": ".py",
   "mimetype": "text/x-python",
   "name": "python",
   "nbconvert_exporter": "python",
   "pygments_lexer": "ipython2",
   "version": "2.7.14"
  }
 },
 "nbformat": 4,
 "nbformat_minor": 2
}
