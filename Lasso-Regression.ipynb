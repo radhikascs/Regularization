{
 "cells": [
  {
   "cell_type": "code",
   "execution_count": 3,
   "metadata": {},
   "outputs": [],
   "source": [
    "import numpy as np\n",
    "from sklearn.linear_model import LinearRegression\n",
    "from sklearn.metrics import mean_squared_error\n",
    "from sklearn import linear_model\n",
    "import warnings\n",
    "warnings.filterwarnings('ignore')"
   ]
  },
  {
   "cell_type": "code",
   "execution_count": 4,
   "metadata": {},
   "outputs": [
    {
     "name": "stdout",
     "output_type": "stream",
     "text": [
      "(100, 5)\n",
      "('train_exp', (80, 4))\n",
      "('train_res', (80, 1))\n",
      "('test_exp', (20, 4))\n",
      "('test_act', (20, 1))\n"
     ]
    }
   ],
   "source": [
    "#Generating matrix with explanatory and response variable\n",
    "matr = np.random.randint(200, size=(100, 5))\n",
    "print (matr.shape)\n",
    "\n",
    "train_exp = matr[:80, :4]\n",
    "train_res = matr[:80, 4:]\n",
    "test_exp = matr[80:, :4]\n",
    "test_act = matr[80:, 4:]\n",
    "\n",
    "print('train_exp',train_exp.shape)\n",
    "print('train_res',train_res.shape)\n",
    "print('test_exp',test_exp.shape)\n",
    "print('test_act',test_act.shape)"
   ]
  },
  {
   "cell_type": "code",
   "execution_count": 5,
   "metadata": {},
   "outputs": [
    {
     "name": "stdout",
     "output_type": "stream",
     "text": [
      "Lasso Predicted Values\n",
      "[ 95.1066067  113.53906915 112.29055335  97.31563703 104.8131444\n",
      " 101.65173337 102.47956306  98.620226    98.02650311 115.32738532\n",
      " 105.65244779 120.87811216 114.94484809 105.85754087  95.84852176\n",
      "  97.49905108 102.14205162 101.07121354  93.57488575  99.52648234]\n",
      "Mean Square Error Lasso\n",
      "2681.843212397933\n"
     ]
    }
   ],
   "source": [
    "#Lasso\n",
    "ls = linear_model.Lasso(alpha=0.1) #alpha can be fine tuned\n",
    "ls.fit(train_exp, train_res)\n",
    "predicted1 = ls.predict(test_exp)\n",
    "print(\"Lasso Predicted Values\")\n",
    "print (predicted1)\n",
    "print ('Mean Square Error Lasso')\n",
    "mse_1 = mean_squared_error(test_act, predicted1)  \n",
    "print (mse_1)\n"
   ]
  },
  {
   "cell_type": "code",
   "execution_count": 6,
   "metadata": {},
   "outputs": [
    {
     "name": "stdout",
     "output_type": "stream",
     "text": [
      "Linear Regression Predicted Values\n",
      "[[ 95.10640625]\n",
      " [113.54085344]\n",
      " [112.29048123]\n",
      " [ 97.31189544]\n",
      " [104.815548  ]\n",
      " [101.65018271]\n",
      " [102.4762714 ]\n",
      " [ 98.61825663]\n",
      " [ 98.02606108]\n",
      " [115.32985215]\n",
      " [105.64977663]\n",
      " [120.88562215]\n",
      " [114.95147668]\n",
      " [105.85476422]\n",
      " [ 95.84558391]\n",
      " [ 97.49695078]\n",
      " [102.14341189]\n",
      " [101.07040573]\n",
      " [ 93.57237748]\n",
      " [ 99.52392756]]\n",
      "Mean Square Error Linear Reg\n",
      "2681.9219716447997\n"
     ]
    }
   ],
   "source": [
    "#Linear Regression results\n",
    "LR = LinearRegression()\n",
    "LR.fit(train_exp, train_res)\n",
    "predicted2 = LR.predict(test_exp)\n",
    "print(\"Linear Regression Predicted Values\")\n",
    "print (predicted2)\n",
    "print ('Mean Square Error Linear Reg')\n",
    "mse_2 = mean_squared_error(test_act, predicted2)  \n",
    "print (mse_2)     "
   ]
  },
  {
   "cell_type": "code",
   "execution_count": null,
   "metadata": {},
   "outputs": [],
   "source": []
  }
 ],
 "metadata": {
  "kernelspec": {
   "display_name": "Python 2",
   "language": "python",
   "name": "python2"
  },
  "language_info": {
   "codemirror_mode": {
    "name": "ipython",
    "version": 2
   },
   "file_extension": ".py",
   "mimetype": "text/x-python",
   "name": "python",
   "nbconvert_exporter": "python",
   "pygments_lexer": "ipython2",
   "version": "2.7.14"
  }
 },
 "nbformat": 4,
 "nbformat_minor": 2
}
